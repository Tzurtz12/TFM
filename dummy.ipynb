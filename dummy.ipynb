{
 "cells": [
  {
   "cell_type": "code",
   "execution_count": 2,
   "metadata": {},
   "outputs": [],
   "source": [
    "import numpy as np\n",
    "import qcodes as qc\n",
    "\n",
    "## Multidimensional scanning module\n",
    "from qcodes.dataset import (\n",
    "    LinSweep,\n",
    "    Measurement,\n",
    "    dond,\n",
    "    experiments,\n",
    "    initialise_or_create_database_at,\n",
    "    load_by_run_spec,\n",
    "    load_or_create_experiment,\n",
    "    plot_dataset,\n",
    ")\n",
    "\n",
    "## Dummy instruments for generating synthetic data\n",
    "from qcodes.instrument_drivers.mock_instruments import (\n",
    "    DummyInstrument,\n",
    "    DummyInstrumentWithMeasurement,\n",
    ")\n",
    "\n",
    "## Using interactive widget\n",
    "from qcodes.interactive_widget import experiments_widget"
   ]
  },
  {
   "cell_type": "code",
   "execution_count": 6,
   "metadata": {},
   "outputs": [
    {
     "name": "stderr",
     "output_type": "stream",
     "text": [
      "c:\\Users\\urtzi\\anaconda3\\envs\\qcodes\\lib\\site-packages\\qcodes\\instrument\\instrument_base.py:565: UserWarning: Changed lock-in to lock_in for instrument identifier\n",
      "  warnings.warn(f\"Changed {name} to {new_name} for instrument identifier\")\n",
      "[lock_in(SR830)] Could not connect at Port_#0008.Hub_#0001\n",
      "Traceback (most recent call last):\n",
      "  File \"c:\\Users\\urtzi\\anaconda3\\envs\\qcodes\\lib\\site-packages\\qcodes\\instrument\\visa.py\", line 159, in _connect_and_handle_error\n",
      "    visa_handle, visabackend, resource_manager = self._open_resource(\n",
      "  File \"c:\\Users\\urtzi\\anaconda3\\envs\\qcodes\\lib\\site-packages\\qcodes\\instrument\\visa.py\", line 188, in _open_resource\n",
      "    resource = resource_manager.open_resource(address)\n",
      "  File \"c:\\Users\\urtzi\\anaconda3\\envs\\qcodes\\lib\\site-packages\\pyvisa\\highlevel.py\", line 3255, in open_resource\n",
      "    info = self.resource_info(resource_name, extended=True)\n",
      "  File \"c:\\Users\\urtzi\\anaconda3\\envs\\qcodes\\lib\\site-packages\\pyvisa\\highlevel.py\", line 3182, in resource_info\n",
      "    ret, err = self.visalib.parse_resource_extended(self.session, resource_name)\n",
      "  File \"c:\\Users\\urtzi\\anaconda3\\envs\\qcodes\\lib\\site-packages\\pyvisa\\ctwrapper\\functions.py\", line 2076, in parse_resource_extended\n",
      "    ret = library.viParseRsrcEx(\n",
      "  File \"c:\\Users\\urtzi\\anaconda3\\envs\\qcodes\\lib\\site-packages\\pyvisa\\ctwrapper\\highlevel.py\", line 226, in _return_handler\n",
      "    return self.handle_return_value(session, ret_value)  # type: ignore\n",
      "  File \"c:\\Users\\urtzi\\anaconda3\\envs\\qcodes\\lib\\site-packages\\pyvisa\\highlevel.py\", line 251, in handle_return_value\n",
      "    raise errors.VisaIOError(rv)\n",
      "pyvisa.errors.VisaIOError: VI_ERROR_RSRC_NFOUND (-1073807343): Insufficient location information or the requested device or resource is not present in the system.\n"
     ]
    },
    {
     "ename": "VisaIOError",
     "evalue": "VI_ERROR_RSRC_NFOUND (-1073807343): Insufficient location information or the requested device or resource is not present in the system.",
     "output_type": "error",
     "traceback": [
      "\u001b[1;31m---------------------------------------------------------------------------\u001b[0m",
      "\u001b[1;31mVisaIOError\u001b[0m                               Traceback (most recent call last)",
      "Cell \u001b[1;32mIn[6], line 3\u001b[0m\n\u001b[0;32m      1\u001b[0m \u001b[38;5;28;01mfrom\u001b[39;00m \u001b[38;5;21;01mqcodes\u001b[39;00m\u001b[38;5;21;01m.\u001b[39;00m\u001b[38;5;21;01minstrument_drivers\u001b[39;00m\u001b[38;5;21;01m.\u001b[39;00m\u001b[38;5;21;01mstanford_research\u001b[39;00m\u001b[38;5;21;01m.\u001b[39;00m\u001b[38;5;21;01mSR830\u001b[39;00m \u001b[38;5;28;01mimport\u001b[39;00m SR830\n\u001b[1;32m----> 3\u001b[0m li \u001b[38;5;241m=\u001b[39m \u001b[43mSR830\u001b[49m\u001b[43m(\u001b[49m\u001b[38;5;124;43m'\u001b[39;49m\u001b[38;5;124;43mlock-in\u001b[39;49m\u001b[38;5;124;43m'\u001b[39;49m\u001b[43m,\u001b[49m\u001b[38;5;124;43m'\u001b[39;49m\u001b[38;5;124;43mPort_#0008.Hub_#0001\u001b[39;49m\u001b[38;5;124;43m'\u001b[39;49m\u001b[43m)\u001b[49m\n",
      "File \u001b[1;32mc:\\Users\\urtzi\\anaconda3\\envs\\qcodes\\lib\\site-packages\\qcodes\\instrument\\instrument_meta.py:36\u001b[0m, in \u001b[0;36mInstrumentMeta.__call__\u001b[1;34m(cls, *args, **kwargs)\u001b[0m\n\u001b[0;32m     31\u001b[0m \u001b[38;5;28;01mdef\u001b[39;00m \u001b[38;5;21m__call__\u001b[39m(\u001b[38;5;28mcls\u001b[39m, \u001b[38;5;241m*\u001b[39margs: Any, \u001b[38;5;241m*\u001b[39m\u001b[38;5;241m*\u001b[39mkwargs: Any) \u001b[38;5;241m-\u001b[39m\u001b[38;5;241m>\u001b[39m Any:\n\u001b[0;32m     32\u001b[0m \u001b[38;5;250m    \u001b[39m\u001b[38;5;124;03m\"\"\"\u001b[39;00m\n\u001b[0;32m     33\u001b[0m \u001b[38;5;124;03m    Overloads `type.__call__` to add code that runs only if __init__ completes\u001b[39;00m\n\u001b[0;32m     34\u001b[0m \u001b[38;5;124;03m    successfully.\u001b[39;00m\n\u001b[0;32m     35\u001b[0m \u001b[38;5;124;03m    \"\"\"\u001b[39;00m\n\u001b[1;32m---> 36\u001b[0m     new_inst \u001b[38;5;241m=\u001b[39m \u001b[38;5;28msuper\u001b[39m()\u001b[38;5;241m.\u001b[39m\u001b[38;5;21m__call__\u001b[39m(\u001b[38;5;241m*\u001b[39margs, \u001b[38;5;241m*\u001b[39m\u001b[38;5;241m*\u001b[39mkwargs)\n\u001b[0;32m     37\u001b[0m     is_abstract \u001b[38;5;241m=\u001b[39m new_inst\u001b[38;5;241m.\u001b[39m_is_abstract()\n\u001b[0;32m     38\u001b[0m     \u001b[38;5;28;01mif\u001b[39;00m is_abstract:\n",
      "File \u001b[1;32mc:\\Users\\urtzi\\anaconda3\\envs\\qcodes\\lib\\site-packages\\qcodes\\instrument_drivers\\stanford_research\\SR830.py:278\u001b[0m, in \u001b[0;36mSR830.__init__\u001b[1;34m(self, name, address, **kwargs)\u001b[0m\n\u001b[0;32m    277\u001b[0m \u001b[38;5;28;01mdef\u001b[39;00m \u001b[38;5;21m__init__\u001b[39m(\u001b[38;5;28mself\u001b[39m, name: \u001b[38;5;28mstr\u001b[39m, address: \u001b[38;5;28mstr\u001b[39m, \u001b[38;5;241m*\u001b[39m\u001b[38;5;241m*\u001b[39mkwargs: Any):\n\u001b[1;32m--> 278\u001b[0m     \u001b[38;5;28msuper\u001b[39m()\u001b[38;5;241m.\u001b[39m\u001b[38;5;21m__init__\u001b[39m(name, address, \u001b[38;5;241m*\u001b[39m\u001b[38;5;241m*\u001b[39mkwargs)\n\u001b[0;32m    280\u001b[0m     \u001b[38;5;66;03m# Reference and phase\u001b[39;00m\n\u001b[0;32m    281\u001b[0m     \u001b[38;5;28mself\u001b[39m\u001b[38;5;241m.\u001b[39madd_parameter(\u001b[38;5;124m'\u001b[39m\u001b[38;5;124mphase\u001b[39m\u001b[38;5;124m'\u001b[39m,\n\u001b[0;32m    282\u001b[0m                        label\u001b[38;5;241m=\u001b[39m\u001b[38;5;124m'\u001b[39m\u001b[38;5;124mPhase\u001b[39m\u001b[38;5;124m'\u001b[39m,\n\u001b[0;32m    283\u001b[0m                        get_cmd\u001b[38;5;241m=\u001b[39m\u001b[38;5;124m'\u001b[39m\u001b[38;5;124mPHAS?\u001b[39m\u001b[38;5;124m'\u001b[39m,\n\u001b[1;32m   (...)\u001b[0m\n\u001b[0;32m    286\u001b[0m                        unit\u001b[38;5;241m=\u001b[39m\u001b[38;5;124m'\u001b[39m\u001b[38;5;124mdeg\u001b[39m\u001b[38;5;124m'\u001b[39m,\n\u001b[0;32m    287\u001b[0m                        vals\u001b[38;5;241m=\u001b[39mNumbers(min_value\u001b[38;5;241m=\u001b[39m\u001b[38;5;241m-\u001b[39m\u001b[38;5;241m360\u001b[39m, max_value\u001b[38;5;241m=\u001b[39m\u001b[38;5;241m729.99\u001b[39m))\n",
      "File \u001b[1;32mc:\\Users\\urtzi\\anaconda3\\envs\\qcodes\\lib\\site-packages\\qcodes\\instrument\\visa.py:132\u001b[0m, in \u001b[0;36mVisaInstrument.__init__\u001b[1;34m(self, name, address, timeout, terminator, device_clear, visalib, pyvisa_sim_file, **kwargs)\u001b[0m\n\u001b[0;32m    126\u001b[0m         (\n\u001b[0;32m    127\u001b[0m             visa_handle,\n\u001b[0;32m    128\u001b[0m             visabackend,\n\u001b[0;32m    129\u001b[0m             resource_manager,\n\u001b[0;32m    130\u001b[0m         ) \u001b[38;5;241m=\u001b[39m \u001b[38;5;28mself\u001b[39m\u001b[38;5;241m.\u001b[39m_connect_and_handle_error(address, visalib)\n\u001b[0;32m    131\u001b[0m \u001b[38;5;28;01melse\u001b[39;00m:\n\u001b[1;32m--> 132\u001b[0m     visa_handle, visabackend, resource_manager \u001b[38;5;241m=\u001b[39m \u001b[38;5;28;43mself\u001b[39;49m\u001b[38;5;241;43m.\u001b[39;49m\u001b[43m_connect_and_handle_error\u001b[49m\u001b[43m(\u001b[49m\n\u001b[0;32m    133\u001b[0m \u001b[43m        \u001b[49m\u001b[43maddress\u001b[49m\u001b[43m,\u001b[49m\u001b[43m \u001b[49m\u001b[43mvisalib\u001b[49m\n\u001b[0;32m    134\u001b[0m \u001b[43m    \u001b[49m\u001b[43m)\u001b[49m\n\u001b[0;32m    135\u001b[0m finalize(\u001b[38;5;28mself\u001b[39m, _close_visa_handle, visa_handle, \u001b[38;5;28mstr\u001b[39m(\u001b[38;5;28mself\u001b[39m\u001b[38;5;241m.\u001b[39mname))\n\u001b[0;32m    137\u001b[0m \u001b[38;5;28mself\u001b[39m\u001b[38;5;241m.\u001b[39mvisabackend: \u001b[38;5;28mstr\u001b[39m \u001b[38;5;241m=\u001b[39m visabackend\n",
      "File \u001b[1;32mc:\\Users\\urtzi\\anaconda3\\envs\\qcodes\\lib\\site-packages\\qcodes\\instrument\\visa.py:165\u001b[0m, in \u001b[0;36mVisaInstrument._connect_and_handle_error\u001b[1;34m(self, address, visalib)\u001b[0m\n\u001b[0;32m    163\u001b[0m     \u001b[38;5;28mself\u001b[39m\u001b[38;5;241m.\u001b[39mvisa_log\u001b[38;5;241m.\u001b[39mexception(\u001b[38;5;124mf\u001b[39m\u001b[38;5;124m\"\u001b[39m\u001b[38;5;124mCould not connect at \u001b[39m\u001b[38;5;132;01m{\u001b[39;00maddress\u001b[38;5;132;01m}\u001b[39;00m\u001b[38;5;124m\"\u001b[39m)\n\u001b[0;32m    164\u001b[0m     \u001b[38;5;28mself\u001b[39m\u001b[38;5;241m.\u001b[39mclose()\n\u001b[1;32m--> 165\u001b[0m     \u001b[38;5;28;01mraise\u001b[39;00m e\n\u001b[0;32m    166\u001b[0m \u001b[38;5;28;01mreturn\u001b[39;00m visa_handle, visabackend, resource_manager\n",
      "File \u001b[1;32mc:\\Users\\urtzi\\anaconda3\\envs\\qcodes\\lib\\site-packages\\qcodes\\instrument\\visa.py:159\u001b[0m, in \u001b[0;36mVisaInstrument._connect_and_handle_error\u001b[1;34m(self, address, visalib)\u001b[0m\n\u001b[0;32m    155\u001b[0m \u001b[38;5;28;01mdef\u001b[39;00m \u001b[38;5;21m_connect_and_handle_error\u001b[39m(\n\u001b[0;32m    156\u001b[0m     \u001b[38;5;28mself\u001b[39m, address: \u001b[38;5;28mstr\u001b[39m, visalib: \u001b[38;5;28mstr\u001b[39m \u001b[38;5;241m|\u001b[39m \u001b[38;5;28;01mNone\u001b[39;00m\n\u001b[0;32m    157\u001b[0m ) \u001b[38;5;241m-\u001b[39m\u001b[38;5;241m>\u001b[39m \u001b[38;5;28mtuple\u001b[39m[pyvisa\u001b[38;5;241m.\u001b[39mresources\u001b[38;5;241m.\u001b[39mMessageBasedResource, \u001b[38;5;28mstr\u001b[39m, pyvisa\u001b[38;5;241m.\u001b[39mResourceManager]:\n\u001b[0;32m    158\u001b[0m     \u001b[38;5;28;01mtry\u001b[39;00m:\n\u001b[1;32m--> 159\u001b[0m         visa_handle, visabackend, resource_manager \u001b[38;5;241m=\u001b[39m \u001b[38;5;28;43mself\u001b[39;49m\u001b[38;5;241;43m.\u001b[39;49m\u001b[43m_open_resource\u001b[49m\u001b[43m(\u001b[49m\n\u001b[0;32m    160\u001b[0m \u001b[43m            \u001b[49m\u001b[43maddress\u001b[49m\u001b[43m,\u001b[49m\u001b[43m \u001b[49m\u001b[43mvisalib\u001b[49m\n\u001b[0;32m    161\u001b[0m \u001b[43m        \u001b[49m\u001b[43m)\u001b[49m\n\u001b[0;32m    162\u001b[0m     \u001b[38;5;28;01mexcept\u001b[39;00m \u001b[38;5;167;01mException\u001b[39;00m \u001b[38;5;28;01mas\u001b[39;00m e:\n\u001b[0;32m    163\u001b[0m         \u001b[38;5;28mself\u001b[39m\u001b[38;5;241m.\u001b[39mvisa_log\u001b[38;5;241m.\u001b[39mexception(\u001b[38;5;124mf\u001b[39m\u001b[38;5;124m\"\u001b[39m\u001b[38;5;124mCould not connect at \u001b[39m\u001b[38;5;132;01m{\u001b[39;00maddress\u001b[38;5;132;01m}\u001b[39;00m\u001b[38;5;124m\"\u001b[39m)\n",
      "File \u001b[1;32mc:\\Users\\urtzi\\anaconda3\\envs\\qcodes\\lib\\site-packages\\qcodes\\instrument\\visa.py:188\u001b[0m, in \u001b[0;36mVisaInstrument._open_resource\u001b[1;34m(self, address, visalib)\u001b[0m\n\u001b[0;32m    185\u001b[0m     visabackend \u001b[38;5;241m=\u001b[39m \u001b[38;5;124m\"\u001b[39m\u001b[38;5;124mivi\u001b[39m\u001b[38;5;124m\"\u001b[39m\n\u001b[0;32m    187\u001b[0m \u001b[38;5;28mself\u001b[39m\u001b[38;5;241m.\u001b[39mvisa_log\u001b[38;5;241m.\u001b[39minfo(\u001b[38;5;124mf\u001b[39m\u001b[38;5;124m\"\u001b[39m\u001b[38;5;124mOpening PyVISA resource at address: \u001b[39m\u001b[38;5;132;01m{\u001b[39;00maddress\u001b[38;5;132;01m}\u001b[39;00m\u001b[38;5;124m\"\u001b[39m)\n\u001b[1;32m--> 188\u001b[0m resource \u001b[38;5;241m=\u001b[39m \u001b[43mresource_manager\u001b[49m\u001b[38;5;241;43m.\u001b[39;49m\u001b[43mopen_resource\u001b[49m\u001b[43m(\u001b[49m\u001b[43maddress\u001b[49m\u001b[43m)\u001b[49m\n\u001b[0;32m    189\u001b[0m \u001b[38;5;28;01mif\u001b[39;00m \u001b[38;5;129;01mnot\u001b[39;00m \u001b[38;5;28misinstance\u001b[39m(resource, pyvisa\u001b[38;5;241m.\u001b[39mresources\u001b[38;5;241m.\u001b[39mMessageBasedResource):\n\u001b[0;32m    190\u001b[0m     resource\u001b[38;5;241m.\u001b[39mclose()\n",
      "File \u001b[1;32mc:\\Users\\urtzi\\anaconda3\\envs\\qcodes\\lib\\site-packages\\pyvisa\\highlevel.py:3255\u001b[0m, in \u001b[0;36mResourceManager.open_resource\u001b[1;34m(self, resource_name, access_mode, open_timeout, resource_pyclass, **kwargs)\u001b[0m\n\u001b[0;32m   3227\u001b[0m \u001b[38;5;250m\u001b[39m\u001b[38;5;124;03m\"\"\"Return an instrument for the resource name.\u001b[39;00m\n\u001b[0;32m   3228\u001b[0m \n\u001b[0;32m   3229\u001b[0m \u001b[38;5;124;03mParameters\u001b[39;00m\n\u001b[1;32m   (...)\u001b[0m\n\u001b[0;32m   3252\u001b[0m \n\u001b[0;32m   3253\u001b[0m \u001b[38;5;124;03m\"\"\"\u001b[39;00m\n\u001b[0;32m   3254\u001b[0m \u001b[38;5;28;01mif\u001b[39;00m resource_pyclass \u001b[38;5;129;01mis\u001b[39;00m \u001b[38;5;28;01mNone\u001b[39;00m:\n\u001b[1;32m-> 3255\u001b[0m     info \u001b[38;5;241m=\u001b[39m \u001b[38;5;28;43mself\u001b[39;49m\u001b[38;5;241;43m.\u001b[39;49m\u001b[43mresource_info\u001b[49m\u001b[43m(\u001b[49m\u001b[43mresource_name\u001b[49m\u001b[43m,\u001b[49m\u001b[43m \u001b[49m\u001b[43mextended\u001b[49m\u001b[38;5;241;43m=\u001b[39;49m\u001b[38;5;28;43;01mTrue\u001b[39;49;00m\u001b[43m)\u001b[49m\n\u001b[0;32m   3257\u001b[0m     \u001b[38;5;28;01mtry\u001b[39;00m:\n\u001b[0;32m   3258\u001b[0m         \u001b[38;5;66;03m# When using querying extended resource info the resource_class is not\u001b[39;00m\n\u001b[0;32m   3259\u001b[0m         \u001b[38;5;66;03m# None\u001b[39;00m\n\u001b[0;32m   3260\u001b[0m         resource_pyclass \u001b[38;5;241m=\u001b[39m \u001b[38;5;28mself\u001b[39m\u001b[38;5;241m.\u001b[39m_resource_classes[\n\u001b[0;32m   3261\u001b[0m             (info\u001b[38;5;241m.\u001b[39minterface_type, info\u001b[38;5;241m.\u001b[39mresource_class)  \u001b[38;5;66;03m# type: ignore\u001b[39;00m\n\u001b[0;32m   3262\u001b[0m         ]\n",
      "File \u001b[1;32mc:\\Users\\urtzi\\anaconda3\\envs\\qcodes\\lib\\site-packages\\pyvisa\\highlevel.py:3182\u001b[0m, in \u001b[0;36mResourceManager.resource_info\u001b[1;34m(self, resource_name, extended)\u001b[0m\n\u001b[0;32m   3170\u001b[0m \u001b[38;5;250m\u001b[39m\u001b[38;5;124;03m\"\"\"Get the (extended) information of a particular resource.\u001b[39;00m\n\u001b[0;32m   3171\u001b[0m \n\u001b[0;32m   3172\u001b[0m \u001b[38;5;124;03mParameters\u001b[39;00m\n\u001b[1;32m   (...)\u001b[0m\n\u001b[0;32m   3178\u001b[0m \n\u001b[0;32m   3179\u001b[0m \u001b[38;5;124;03m\"\"\"\u001b[39;00m\n\u001b[0;32m   3181\u001b[0m \u001b[38;5;28;01mif\u001b[39;00m extended:\n\u001b[1;32m-> 3182\u001b[0m     ret, err \u001b[38;5;241m=\u001b[39m \u001b[38;5;28;43mself\u001b[39;49m\u001b[38;5;241;43m.\u001b[39;49m\u001b[43mvisalib\u001b[49m\u001b[38;5;241;43m.\u001b[39;49m\u001b[43mparse_resource_extended\u001b[49m\u001b[43m(\u001b[49m\u001b[38;5;28;43mself\u001b[39;49m\u001b[38;5;241;43m.\u001b[39;49m\u001b[43msession\u001b[49m\u001b[43m,\u001b[49m\u001b[43m \u001b[49m\u001b[43mresource_name\u001b[49m\u001b[43m)\u001b[49m\n\u001b[0;32m   3183\u001b[0m \u001b[38;5;28;01melse\u001b[39;00m:\n\u001b[0;32m   3184\u001b[0m     ret, err \u001b[38;5;241m=\u001b[39m \u001b[38;5;28mself\u001b[39m\u001b[38;5;241m.\u001b[39mvisalib\u001b[38;5;241m.\u001b[39mparse_resource(\u001b[38;5;28mself\u001b[39m\u001b[38;5;241m.\u001b[39msession, resource_name)\n",
      "File \u001b[1;32mc:\\Users\\urtzi\\anaconda3\\envs\\qcodes\\lib\\site-packages\\pyvisa\\ctwrapper\\functions.py:2076\u001b[0m, in \u001b[0;36mparse_resource_extended\u001b[1;34m(library, session, resource_name)\u001b[0m\n\u001b[0;32m   2072\u001b[0m alias_if_exists \u001b[38;5;241m=\u001b[39m create_string_buffer(constants\u001b[38;5;241m.\u001b[39mVI_FIND_BUFLEN)\n\u001b[0;32m   2074\u001b[0m \u001b[38;5;66;03m# [ViSession, ViRsrc, ViPUInt16, ViPUInt16, ViAChar, ViAChar, ViAChar]\u001b[39;00m\n\u001b[0;32m   2075\u001b[0m \u001b[38;5;66;03m# ViRsrc converts from (str, unicode, bytes) to bytes\u001b[39;00m\n\u001b[1;32m-> 2076\u001b[0m ret \u001b[38;5;241m=\u001b[39m \u001b[43mlibrary\u001b[49m\u001b[38;5;241;43m.\u001b[39;49m\u001b[43mviParseRsrcEx\u001b[49m\u001b[43m(\u001b[49m\n\u001b[0;32m   2077\u001b[0m \u001b[43m    \u001b[49m\u001b[43msession\u001b[49m\u001b[43m,\u001b[49m\n\u001b[0;32m   2078\u001b[0m \u001b[43m    \u001b[49m\u001b[43mresource_name\u001b[49m\u001b[43m,\u001b[49m\n\u001b[0;32m   2079\u001b[0m \u001b[43m    \u001b[49m\u001b[43mbyref\u001b[49m\u001b[43m(\u001b[49m\u001b[43minterface_type\u001b[49m\u001b[43m)\u001b[49m\u001b[43m,\u001b[49m\n\u001b[0;32m   2080\u001b[0m \u001b[43m    \u001b[49m\u001b[43mbyref\u001b[49m\u001b[43m(\u001b[49m\u001b[43minterface_board_number\u001b[49m\u001b[43m)\u001b[49m\u001b[43m,\u001b[49m\n\u001b[0;32m   2081\u001b[0m \u001b[43m    \u001b[49m\u001b[43mresource_class\u001b[49m\u001b[43m,\u001b[49m\n\u001b[0;32m   2082\u001b[0m \u001b[43m    \u001b[49m\u001b[43munaliased_expanded_resource_name\u001b[49m\u001b[43m,\u001b[49m\n\u001b[0;32m   2083\u001b[0m \u001b[43m    \u001b[49m\u001b[43malias_if_exists\u001b[49m\u001b[43m,\u001b[49m\n\u001b[0;32m   2084\u001b[0m \u001b[43m\u001b[49m\u001b[43m)\u001b[49m\n\u001b[0;32m   2086\u001b[0m res \u001b[38;5;241m=\u001b[39m [\n\u001b[0;32m   2087\u001b[0m     buffer_to_text(val)\n\u001b[0;32m   2088\u001b[0m     \u001b[38;5;28;01mfor\u001b[39;00m val \u001b[38;5;129;01min\u001b[39;00m (resource_class, unaliased_expanded_resource_name, alias_if_exists)\n\u001b[0;32m   2089\u001b[0m ]\n\u001b[0;32m   2091\u001b[0m \u001b[38;5;28;01mif\u001b[39;00m res[\u001b[38;5;241m-\u001b[39m\u001b[38;5;241m1\u001b[39m] \u001b[38;5;241m==\u001b[39m \u001b[38;5;124m\"\u001b[39m\u001b[38;5;124m\"\u001b[39m:\n",
      "File \u001b[1;32mc:\\Users\\urtzi\\anaconda3\\envs\\qcodes\\lib\\site-packages\\pyvisa\\ctwrapper\\highlevel.py:226\u001b[0m, in \u001b[0;36mIVIVisaLibrary._return_handler\u001b[1;34m(self, ret_value, func, arguments)\u001b[0m\n\u001b[0;32m    223\u001b[0m         \u001b[38;5;66;03m# Set session back to a safe value\u001b[39;00m\n\u001b[0;32m    224\u001b[0m         session \u001b[38;5;241m=\u001b[39m \u001b[38;5;28;01mNone\u001b[39;00m\n\u001b[1;32m--> 226\u001b[0m \u001b[38;5;28;01mreturn\u001b[39;00m \u001b[38;5;28;43mself\u001b[39;49m\u001b[38;5;241;43m.\u001b[39;49m\u001b[43mhandle_return_value\u001b[49m\u001b[43m(\u001b[49m\u001b[43msession\u001b[49m\u001b[43m,\u001b[49m\u001b[43m \u001b[49m\u001b[43mret_value\u001b[49m\u001b[43m)\u001b[49m\n",
      "File \u001b[1;32mc:\\Users\\urtzi\\anaconda3\\envs\\qcodes\\lib\\site-packages\\pyvisa\\highlevel.py:251\u001b[0m, in \u001b[0;36mVisaLibraryBase.handle_return_value\u001b[1;34m(self, session, status_code)\u001b[0m\n\u001b[0;32m    248\u001b[0m     \u001b[38;5;28mself\u001b[39m\u001b[38;5;241m.\u001b[39m_last_status_in_session[session] \u001b[38;5;241m=\u001b[39m rv\n\u001b[0;32m    250\u001b[0m \u001b[38;5;28;01mif\u001b[39;00m rv \u001b[38;5;241m<\u001b[39m \u001b[38;5;241m0\u001b[39m:\n\u001b[1;32m--> 251\u001b[0m     \u001b[38;5;28;01mraise\u001b[39;00m errors\u001b[38;5;241m.\u001b[39mVisaIOError(rv)\n\u001b[0;32m    253\u001b[0m \u001b[38;5;28;01mif\u001b[39;00m rv \u001b[38;5;129;01min\u001b[39;00m \u001b[38;5;28mself\u001b[39m\u001b[38;5;241m.\u001b[39missue_warning_on:\n\u001b[0;32m    254\u001b[0m     \u001b[38;5;28;01mif\u001b[39;00m session \u001b[38;5;129;01mand\u001b[39;00m rv \u001b[38;5;129;01mnot\u001b[39;00m \u001b[38;5;129;01min\u001b[39;00m \u001b[38;5;28mself\u001b[39m\u001b[38;5;241m.\u001b[39m_ignore_warning_in_session[session]:\n",
      "\u001b[1;31mVisaIOError\u001b[0m: VI_ERROR_RSRC_NFOUND (-1073807343): Insufficient location information or the requested device or resource is not present in the system."
     ]
    },
    {
     "ename": "",
     "evalue": "",
     "output_type": "error",
     "traceback": [
      "\u001b[1;31mThe Kernel crashed while executing code in the current cell or a previous cell. \n",
      "\u001b[1;31mPlease review the code in the cell(s) to identify a possible cause of the failure. \n",
      "\u001b[1;31mClick <a href='https://aka.ms/vscodeJupyterKernelCrash'>here</a> for more info. \n",
      "\u001b[1;31mView Jupyter <a href='command:jupyter.viewOutput'>log</a> for further details."
     ]
    }
   ],
   "source": [
    "from qcodes.instrument_drivers.stanford_research.SR830 import SR830\n",
    "\n",
    "li = SR830('lock-in','Port_#0008.Hub_#0001')"
   ]
  },
  {
   "cell_type": "code",
   "execution_count": 3,
   "metadata": {},
   "outputs": [],
   "source": [
    "# A dummy signal generator with two parameters ch1 and ch2\n",
    "dac = DummyInstrument('dac', gates=['ch1', 'ch2'])\n",
    "\n",
    "# A dummy digital multimeter that generates a synthetic data depending\n",
    "# on the values set on the setter_instr, in this case the dummy dac\n",
    "dmm = DummyInstrumentWithMeasurement('dmm', setter_instr=dac)"
   ]
  },
  {
   "cell_type": "code",
   "execution_count": 4,
   "metadata": {},
   "outputs": [
    {
     "name": "stdout",
     "output_type": "stream",
     "text": [
      "dmm:\n",
      "\tparameter value\n",
      "--------------------------------------------------------------------------------\n",
      "IDN :\tNone \n",
      "v1  :\t0 (V)\n",
      "v2  :\t0 (V)\n"
     ]
    }
   ],
   "source": [
    "dmm.print_readable_snapshot()"
   ]
  }
 ],
 "metadata": {
  "kernelspec": {
   "display_name": "base",
   "language": "python",
   "name": "python3"
  },
  "language_info": {
   "codemirror_mode": {
    "name": "ipython",
    "version": 3
   },
   "file_extension": ".py",
   "mimetype": "text/x-python",
   "name": "python",
   "nbconvert_exporter": "python",
   "pygments_lexer": "ipython3",
   "version": "3.9.19"
  }
 },
 "nbformat": 4,
 "nbformat_minor": 2
}
